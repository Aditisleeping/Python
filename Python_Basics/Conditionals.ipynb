{
 "cells": [
  {
   "cell_type": "code",
   "execution_count": 2,
   "id": "c1e5439d-8067-4831-a665-045e03386736",
   "metadata": {},
   "outputs": [
    {
     "name": "stdin",
     "output_type": "stream",
     "text": [
      "Enter your marks 93\n"
     ]
    },
    {
     "name": "stdout",
     "output_type": "stream",
     "text": [
      "Congratulations! Your grade is O\n"
     ]
    }
   ],
   "source": [
    "#Conditionals\n",
    "#Let's Play with some if-elif-else statements\n",
    "\n",
    "marks = int(input('Enter your marks'))\n",
    "if marks>=90:\n",
    "    print(\"Congratulations! Your grade is O\")\n",
    "elif marks>=80:\n",
    "    print(\"Great Job! Your grade is A\")\n",
    "elif marks>=70:\n",
    "    print(\"Good! Your grade is B\")\n",
    "elif marks>=60:\n",
    "    print(\"Average. Your grade is C\")\n",
    "elif marks>=50:\n",
    "    print(\"You pass. Your grade is D\")\n",
    "else:\n",
    "    print(\"You failed. Your grade is F\")"
   ]
  },
  {
   "cell_type": "code",
   "execution_count": 3,
   "id": "158749ab-929f-49de-8ad7-78036d15adf9",
   "metadata": {},
   "outputs": [],
   "source": [
    "#Learnings:\n",
    "# How the statements work.\n",
    "#An example for explicit type casting."
   ]
  },
  {
   "cell_type": "code",
   "execution_count": null,
   "id": "7b5e1c66-a377-41c2-b117-0a938ab2478e",
   "metadata": {},
   "outputs": [],
   "source": []
  }
 ],
 "metadata": {
  "kernelspec": {
   "display_name": "Python 3 (ipykernel)",
   "language": "python",
   "name": "python3"
  },
  "language_info": {
   "codemirror_mode": {
    "name": "ipython",
    "version": 3
   },
   "file_extension": ".py",
   "mimetype": "text/x-python",
   "name": "python",
   "nbconvert_exporter": "python",
   "pygments_lexer": "ipython3",
   "version": "3.11.7"
  }
 },
 "nbformat": 4,
 "nbformat_minor": 5
}
